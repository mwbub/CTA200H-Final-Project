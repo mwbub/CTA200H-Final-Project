{
 "cells": [
  {
   "cell_type": "markdown",
   "metadata": {},
   "source": [
    "# Question 1\n",
    "#### Write a Python function that takes the name of a star and returns a galpy Orbit object (setup with the star's position, distance, proper motion, and radial velocity). Apply to: GJ 440, Lacaille 8760, Vega. Check that you are finding the right star."
   ]
  },
  {
   "cell_type": "code",
   "execution_count": 1,
   "metadata": {},
   "outputs": [
    {
     "name": "stdout",
     "output_type": "stream",
     "text": [
      "Created TAP+ (v1.0.1) - Connection:\n",
      "\tHost: gea.esac.esa.int\n",
      "\tUse HTTPS: False\n",
      "\tPort: 80\n",
      "\tSSL Port: 443\n"
     ]
    }
   ],
   "source": [
    "import astropy.units as u\n",
    "from astropy.coordinates import SkyCoord\n",
    "from astroquery.simbad import Simbad\n",
    "from astroquery.gaia import Gaia\n",
    "from galpy.orbit import Orbit\n",
    "from numpy.ma import is_masked"
   ]
  },
  {
   "cell_type": "markdown",
   "metadata": {},
   "source": [
    "In order to search the Gaia catalogue by star name, I am first using astroquery to query the SIMBAD catalogue by star name. Using the star's position, proper motion, parallax, and radial velocity (if available) from SIMBAD, I then query the Gaia catalogue using the EPOCH_PROP_POS function for ADQL provided by the Gaia archive. This returns the star's RA and Dec corrected for the epoch. Using these corrected coordinates, the function queries Gaia for the star with a cone search in a small radius (by default 1 arcsec). If the star is found in Gaia, then the data is used to generate a galpy.orbit.Orbit object. If no data for the star is found, then data from SIMBAD is used instead. If the radial velocity of the star is not available in Gaia, then the function first checks if it is available in SIMBAD, and failing that defaults to 20.0 km/s (the approximate speed of the Sun with respect to the local standard of rest)."
   ]
  },
  {
   "cell_type": "code",
   "execution_count": 2,
   "metadata": {
    "collapsed": true
   },
   "outputs": [],
   "source": [
    "def star_to_orbit(star_name, radius = 1.0*u.arcsec):\n",
    "    \"\"\" \n",
    "    Given the name of a star, returns a galpy.orbit.Orbit object for that \n",
    "    star using data from the Gaia DR2 catalogue. If no data on the star can\n",
    "    be found from Gaia, then data from SIMBAD is used instead.\n",
    "    \"\"\"\n",
    "    # Get data on the star from SIMBAD, for use in epoch adjustment\n",
    "    custom_simbad = Simbad()\n",
    "    custom_simbad.add_votable_fields('pmra', 'pmdec', 'plx', 'rv_value')\n",
    "    simbad_table = custom_simbad.query_object(star_name)\n",
    "    \n",
    "    # Convert ra and dec from SIMBAD into a SkyCoord object\n",
    "    # to transform into degrees\n",
    "    simbad_coord = SkyCoord(ra = simbad_table['RA'][0], \n",
    "                            dec = simbad_table['DEC'][0],\n",
    "                            unit = (u.hourangle, u.deg))\n",
    "    \n",
    "    # Store the SIMBAD values in a tuple of the form \n",
    "    # (ra, dec, plx, pmra, pmdec, rv)\n",
    "    simbad_vals = (simbad_coord.ra.value,\n",
    "                   simbad_coord.dec.value,\n",
    "                   simbad_table['PLX_VALUE'][0],\n",
    "                   simbad_table['PMRA'][0],\n",
    "                   simbad_table['PMDEC'][0],\n",
    "                   simbad_table['RV_VALUE'][0])\n",
    "    \n",
    "    # Circle radius to query Gaia, in degrees\n",
    "    radius_deg = radius.to(u.deg)\n",
    "    \n",
    "    # Replace masked values from the SIMBAD table with 0.0 for epoch adjustment\n",
    "    epoch_prop_vals = [val if not is_masked(val) else 0.0 for val in simbad_vals]\n",
    "    \n",
    "    # Perform a cone search with epoch adjustment\n",
    "    query =  \"\"\"\n",
    "             SELECT source_id, ra, dec, pmra, pmdec, parallax, radial_velocity\n",
    "             FROM gaiadr2.gaia_source\n",
    "             WHERE 1=CONTAINS(\n",
    "             POINT('ICRS',gaiadr2.gaia_source.ra,gaiadr2.gaia_source.dec),\n",
    "             CIRCLE('ICRS', \n",
    "             COORD1(EPOCH_PROP_POS({0},{1},{2},{3},{4},{5},2000,2015.5)),\n",
    "             COORD2(EPOCH_PROP_POS({0},{1},{2},{3},{4},{5},2000,2015.5)), {6}))\n",
    "             \"\"\".format(*epoch_prop_vals, radius_deg.value)\n",
    "             \n",
    "    # Perfrom the cone search and get the result in a table\n",
    "    job = Gaia.launch_job_async(query)\n",
    "    gaia_table = job.get_results()\n",
    "    \n",
    "    # If no Gaia entries are found, use the SIMBAD entries\n",
    "    if len(gaia_table) != 0:\n",
    "        ra = gaia_table['ra'][0]\n",
    "        dec = gaia_table['dec'][0]\n",
    "        plx = gaia_table['parallax'][0]\n",
    "        pmra = gaia_table['pmra'][0]\n",
    "        pmdec = gaia_table['pmdec'][0]\n",
    "        rv = gaia_table['radial_velocity'][0]\n",
    "    else:\n",
    "        ra, dec, plx, pmra, pmdec, rv = simbad_vals\n",
    "        \n",
    "    if is_masked(rv) and is_masked(simbad_vals[-1]):\n",
    "        # Set rv to 20.0 if not available in either the Gaia or SIMBAD tables\n",
    "        rv = 20.0\n",
    "    elif is_masked(rv):\n",
    "        # Use the SIMBAD rv if not available in GAIA\n",
    "        rv = simbad_vals[5]\n",
    "        \n",
    "    # Generate and return a galpy.orbit.Orbit object\n",
    "    orbit = Orbit(vxvv = (ra, dec, 1/plx, pmra, pmdec, rv), radec = True)\n",
    "    return orbit"
   ]
  },
  {
   "cell_type": "markdown",
   "metadata": {},
   "source": [
    "We can apply this function to the example stars GJ 440, Lacaille 8760, and Vega"
   ]
  },
  {
   "cell_type": "code",
   "execution_count": 3,
   "metadata": {},
   "outputs": [
    {
     "name": "stdout",
     "output_type": "stream",
     "text": [
      "Query finished.\n",
      "Query finished.\n",
      "Query finished.\n"
     ]
    }
   ],
   "source": [
    "stars = [\"GJ 440\", \"Lacaille 8760\", \"Vega\"]\n",
    "orbits = [star_to_orbit(star) for star in stars]"
   ]
  },
  {
   "cell_type": "markdown",
   "metadata": {},
   "source": [
    "We can check that the position and velocity values for each star are correct."
   ]
  },
  {
   "cell_type": "code",
   "execution_count": 4,
   "metadata": {},
   "outputs": [
    {
     "name": "stdout",
     "output_type": "stream",
     "text": [
      "star: GJ 440\n",
      "ra (deg): 176.4557771399642\n",
      "dec (deg): -64.84300499994973\n",
      "plx (arcsec): 215.7372575196972\n",
      "pmra (mas/yr): 2661.594499440631\n",
      "pmdec (mas/yr): -344.84677507977284\n",
      "rv (km/s): 20.000000000029228\n",
      "\n",
      "star: Lacaille 8760\n",
      "ra (deg): 319.29559940778796\n",
      "dec (deg): -38.872297249579816\n",
      "plx (arcsec): 251.82949243678786\n",
      "pmra (mas/yr): -3258.5531275238395\n",
      "pmdec (mas/yr): -1145.395729188883\n",
      "rv (km/s): 20.561701480874195\n",
      "\n",
      "star: Vega\n",
      "ra (deg): 279.23473458332927\n",
      "dec (deg): 38.78368888887407\n",
      "plx (arcsec): 130.2299999999866\n",
      "pmra (mas/yr): 200.9399999999357\n",
      "pmdec (mas/yr): 286.2299999998336\n",
      "rv (km/s): -20.600000000003046\n",
      "\n"
     ]
    }
   ],
   "source": [
    "for i in range(len(stars)):\n",
    "    orbit_vals = (stars[i], \n",
    "                  orbits[i].ra(), \n",
    "                  orbits[i].dec(),\n",
    "                  1/orbits[i].dist(),\n",
    "                  orbits[i].pmra(),\n",
    "                  orbits[i].pmdec(),\n",
    "                  orbits[i].vlos())\n",
    "    orbit_str = (\"star: {}\\n\"\n",
    "    \"ra (deg): {}\\n\"\n",
    "    \"dec (deg): {}\\n\"\n",
    "    \"plx (arcsec): {}\\n\"\n",
    "    \"pmra (mas/yr): {}\\n\"\n",
    "    \"pmdec (mas/yr): {}\\n\"\n",
    "    \"rv (km/s): {}\\n\").format(*orbit_vals)\n",
    "    print(orbit_str)"
   ]
  },
  {
   "cell_type": "markdown",
   "metadata": {},
   "source": [
    "Notice that the radial velocity for GJ 440 was not available in the Gaia dr2 catalogue nor in SIMBAD, and it therefore defaulted to 20.0 km/s. Moreover, Vega does not appear to be present in the Gaia dr2 release, and therefore the function used SIMBAD to get the data for Vega."
   ]
  }
 ],
 "metadata": {
  "kernelspec": {
   "display_name": "Python 3",
   "language": "python",
   "name": "python3"
  },
  "language_info": {
   "codemirror_mode": {
    "name": "ipython",
    "version": 3
   },
   "file_extension": ".py",
   "mimetype": "text/x-python",
   "name": "python",
   "nbconvert_exporter": "python",
   "pygments_lexer": "ipython3",
   "version": "3.6.1"
  }
 },
 "nbformat": 4,
 "nbformat_minor": 2
}
