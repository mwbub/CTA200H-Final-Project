{
 "cells": [
  {
   "cell_type": "markdown",
   "metadata": {},
   "source": [
    "# Question 3\n",
    "#### Write a function that takes (ra,dec,distance,proper motion ra,proper motion dec,line-of-sight velocity) and their Gaussian uncertainties for a star and computes eccentricity, zmax, rperi, rap and their uncertainties using Monte Carlo sampling with the galpy function galpy.actionAngle.actionAngleStaeckel.EccZmaxRperiRap. Apply to some stars in the Gaia RV sample."
   ]
  },
  {
   "cell_type": "code",
   "execution_count": 1,
   "metadata": {},
   "outputs": [
    {
     "name": "stdout",
     "output_type": "stream",
     "text": [
      "Created TAP+ (v1.0.1) - Connection:\n",
      "\tHost: gea.esac.esa.int\n",
      "\tUse HTTPS: False\n",
      "\tPort: 80\n",
      "\tSSL Port: 443\n"
     ]
    }
   ],
   "source": [
    "import numpy as np\n",
    "import astropy.units as u\n",
    "from astropy.coordinates import SkyCoord\n",
    "from astroquery.gaia import Gaia\n",
    "from galpy.potential import MWPotential2014\n",
    "from galpy.actionAngle import actionAngleStaeckel"
   ]
  },
  {
   "cell_type": "markdown",
   "metadata": {},
   "source": [
    "The following function takes the ICRS coordinates of a star, converts to galactocentric coordiantes, and calculates eccentricity, zmax, rperi, rap and their uncertainties. For the Monte Carlo sampling, I assumed that the ICRS coordinates are not correlated to each other (and hence the Gaussian distribution used for sampling is in the shape of a 5-sphere)."
   ]
  },
  {
   "cell_type": "code",
   "execution_count": 2,
   "metadata": {
    "collapsed": true
   },
   "outputs": [],
   "source": [
    "def icrs_to_EccZmaxRperiRap(ra: tuple, dec: tuple, d: tuple, pmra: tuple, \n",
    "                            pmdec: tuple, rv: tuple, ro: float = None, \n",
    "                            vo: float = None, nsamples: int = 100000) -> tuple:\n",
    "    \"\"\" Converts ICRS coordinates and their Gaussian uncertainties for a star\n",
    "    in the Milky War into eccentricity, maximum height above the plane, \n",
    "    pericentre, and apocentre with uncertainties.\n",
    "    \n",
    "    Parameters:\n",
    "        \n",
    "        ra - RA with uncertainty, given as a tuple of the form (RA, RA_ERR).\n",
    "        Can be Quantity, otherwise given in degrees.\n",
    "         \n",
    "        dec - Dec with uncertainty, given as a tuple of the form \n",
    "        (DEC, DEC_ERR). Can be Quantity, otherwise given in degrees.\n",
    "        \n",
    "        d - Distance with uncertainty, given as a tuple of the form (D, D_ERR).\n",
    "        Can be Quantity, otherwise given in kpc.\n",
    "        \n",
    "        pmra - Proper motion in RA with uncertainty, given as a tuple of the \n",
    "        form (PMRA, PMRA_ERR). Can be Quantity, otherwise given in mas/yr.\n",
    "    \n",
    "        pmdec - Proper motion in Dec with uncertainty, given as a tuple of the \n",
    "        form (PMDEC, PMDEC_ERR). Can be Quantity, otherwise given in mas/yr.\n",
    "    \n",
    "        rv - Radial velocity with uncertainty, given as a tuple of the form\n",
    "        (RV, RV_ERR). Can be Quantity, otherwise given in km/s.\n",
    "        \n",
    "        ro (optional) - Distance scale. Can be Quantity, otherwise given in\n",
    "        kpc. If provided with vo, activates output in physical units.\n",
    "        \n",
    "        vo (optional) - Velocity scale. Can be Quantity, otherwise given in \n",
    "        km/s. If provided with ro, activates output in physical units.\n",
    "        \n",
    "        nsamples (optional) - Number of samples for the Monte Carlo method.\n",
    "    \n",
    "    Returns:\n",
    "        \n",
    "        (e, zmax, rperi, rap), each a tuple of the form (VALUE, VALUE_ERR).\n",
    "        If ro and vo are provided, distances are returned in kpc. Otherwise\n",
    "        returns galpy natural units.\n",
    "    \"\"\"\n",
    "    # Convert each value and its error into astropy Quantities\n",
    "    ra_val, ra_err = u.Quantity(ra, u.deg)\n",
    "    dec_val, dec_err = u.Quantity(dec, u.deg)\n",
    "    d_val, d_err = u.Quantity(d, u.kpc)\n",
    "    pmra_val, pmra_err = u.Quantity(pmra, u.mas/u.yr)\n",
    "    pmdec_val, pmdec_err = u.Quantity(pmdec, u.mas/u.yr)\n",
    "    rv_val, rv_err = u.Quantity(rv, u.km/u.s)\n",
    "    \n",
    "    # Get parameters for a 6D normal distribution to sample\n",
    "    mean = np.array([ra_val.value, dec_val.value, d_val.value, pmra_val.value, \n",
    "                     pmdec_val.value, rv_val.value])\n",
    "    cov = np.diag([ra_err.value, dec_err.value, d_err.value, pmra_err.value, \n",
    "                    pmdec_err.value, rv_err.value])\n",
    "    \n",
    "    # Sample the normal distribution\n",
    "    samples = np.random.multivariate_normal(mean, cov, size=nsamples)\n",
    "    ra_samples = samples[:, 0] * u.deg\n",
    "    dec_samples = samples[:, 1] * u.deg\n",
    "    d_samples = samples[:, 2] * u.kpc\n",
    "    pmra_samples = samples[:, 3] * (u.mas/u.yr)\n",
    "    pmdec_samples = samples[:, 4] * (u.mas/u.yr)\n",
    "    rv_samples = samples[:, 5] * (u.km/u.s)\n",
    "    \n",
    "    coords = SkyCoord(frame=\"icrs\", ra=ra_samples, dec=dec_samples,\n",
    "                      distance=d_samples, pm_ra_cosdec=pmra_samples, \n",
    "                      pm_dec=pmdec_samples, radial_velocity=rv_samples)\n",
    "    \n",
    "    # Convert to galactocentric frame\n",
    "    gal_coords = coords.transform_to(\"galactocentric\")\n",
    "    gal_coords.representation_type = \"cylindrical\"\n",
    "    \n",
    "    # Convert each value into consistent units\n",
    "    R = gal_coords.rho.to(u.kpc)\n",
    "    phi = gal_coords.phi.to(u.deg)\n",
    "    z = gal_coords.z.to(u.kpc)\n",
    "    vR = gal_coords.d_rho.to(u.km/u.s)\n",
    "    vT = (gal_coords.d_phi * R).to(u.km/u.s, \n",
    "         equivalencies=u.dimensionless_angles())\n",
    "    vz = gal_coords.d_z.to(u.km/u.s)\n",
    "    \n",
    "    # Calculate EccZmaxRperiRap\n",
    "    aAS = actionAngleStaeckel(pot=MWPotential2014, delta=0.4, ro=ro, vo=vo)\n",
    "    orbit_vals = aAS.EccZmaxRperiRap(R, vR, vT, z, vz, phi)\n",
    "    \n",
    "    # Get the mean and standard deviation of the samples\n",
    "    ecc_val, zmax_val, rperi_val, rap_val = np.mean(orbit_vals, axis=1)\n",
    "    ecc_err, zmax_err, rperi_err, rap_err = np.std(orbit_vals, axis=1)\n",
    "    \n",
    "    return ((ecc_val, ecc_err),\n",
    "            (zmax_val, zmax_err),\n",
    "            (rperi_val, rperi_err),\n",
    "            (rap_val, rap_err))"
   ]
  },
  {
   "cell_type": "markdown",
   "metadata": {},
   "source": [
    "We can grab a few stars from Gaia to test the function. I am approximating the uncertainty in distance using $\\Delta d \\approx \\frac{\\Delta p}{p^2}$. Since I am using this approximation, I am only querying for stars with small parallax uncertainties. Alternatively, the above function could be rewritten to accept parallax instead of distance for the Monte Carlo sampling."
   ]
  },
  {
   "cell_type": "code",
   "execution_count": 4,
   "metadata": {},
   "outputs": [
    {
     "name": "stdout",
     "output_type": "stream",
     "text": [
      "Query finished.\n",
      "\n",
      "source_id: 1960989712677966464\n",
      "e = 0.45894666607069795 +/- 0.008334115270287202\n",
      "zmax = 0.5135702489587998 +/- 0.16256274541474877 kpc\n",
      "rperi = 3.1059442184205617 +/- 0.06175939825454681 kpc\n",
      "rap = 8.37439271719487 +/- 0.023628355544635018 kpc\n",
      "\n",
      "source_id: 2110796144735099008\n",
      "e = 0.4034642774298779 +/- 0.009622149250594299\n",
      "zmax = 0.2607534271858631 +/- 0.014217767405020683 kpc\n",
      "rperi = 3.5947543956596144 +/- 0.07666212533029575 kpc\n",
      "rap = 8.456360820404631 +/- 0.02465568834525039 kpc\n",
      "\n",
      "source_id: 2293329123781368832\n",
      "e = 0.36023626478218185 +/- 0.007534682039725263\n",
      "zmax = 0.9651845051094848 +/- 0.0565690077105858 kpc\n",
      "rperi = 4.781381983426594 +/- 0.11186078819610436 kpc\n",
      "rap = 10.170515573679713 +/- 0.3733692963544079 kpc\n",
      "\n",
      "source_id: 2174153539484362752\n",
      "e = 0.4184539682313369 +/- 0.005483582585446667\n",
      "zmax = 0.3689779883122071 +/- 0.0951103033901865 kpc\n",
      "rperi = 3.546143750900222 +/- 0.06204287861408967 kpc\n",
      "rap = 8.648664990982162 +/- 0.06418016801989761 kpc\n",
      "\n",
      "source_id: 1968797688350830976\n",
      "e = 0.5005154174259776 +/- 0.03748747273726978\n",
      "zmax = 2.160251428011028 +/- 0.5906210230812796 kpc\n",
      "rperi = 3.637197479284782 +/- 0.03760852445981307 kpc\n",
      "rap = 11.004684885551928 +/- 1.0724223378594988 kpc\n"
     ]
    }
   ],
   "source": [
    "import warnings\n",
    "warnings.filterwarnings(\"ignore\")\n",
    "\n",
    "job = Gaia.launch_job_async(\"\"\"\n",
    "SELECT TOP 5\n",
    "source_id, ra, ra_error, dec, dec_error, parallax, parallax_error, pmra, \n",
    "pmra_error, pmdec, pmdec_error, radial_velocity, radial_velocity_error\n",
    "FROM gaiadr2.gaia_source \n",
    "WHERE radial_velocity IS NOT NULL\n",
    "AND parallax_error < parallax * 0.001\n",
    "AND ABS(radial_velocity) < 100.0\n",
    "\"\"\")\n",
    "stars = job.get_results()\n",
    "\n",
    "for i in range(len(stars)):\n",
    "    source_id = stars[i][\"source_id\"]\n",
    "    ra = (stars[i][\"ra\"], stars[i][\"ra_error\"])\n",
    "    dec = (stars[i][\"dec\"], stars[i][\"dec_error\"])\n",
    "    pmra = (stars[i][\"pmra\"], stars[i][\"pmra_error\"])\n",
    "    pmdec = (stars[i][\"pmdec\"], stars[i][\"pmdec_error\"])\n",
    "    rv = (stars[i][\"radial_velocity\"], stars[i][\"radial_velocity_error\"])\n",
    "    \n",
    "    # Calculate distance and its approximate uncertainty from parallax\n",
    "    d_val = 1/stars[i][\"parallax\"]\n",
    "    d_err = abs(stars[i][\"parallax_error\"]/(stars[i][\"parallax\"]**2))\n",
    "    d = (d_val, d_err)\n",
    "    \n",
    "    ecc, zmax, rperi, rap = icrs_to_EccZmaxRperiRap(ra, dec, d, pmra, pmdec, \n",
    "                                                    rv, ro=8., vo=220.)\n",
    "    print(\"\\nsource_id: {}\".format(source_id))\n",
    "    print(\"e = \" + \"{} +/- {}\".format(*ecc))\n",
    "    print(\"zmax = \" + \"{} +/- {} kpc\".format(*zmax))\n",
    "    print(\"rperi = \" + \"{} +/- {} kpc\".format(*rperi))\n",
    "    print(\"rap = \" + \"{} +/- {} kpc\".format(*rap))"
   ]
  },
  {
   "cell_type": "code",
   "execution_count": null,
   "metadata": {
    "collapsed": true
   },
   "outputs": [],
   "source": []
  }
 ],
 "metadata": {
  "kernelspec": {
   "display_name": "Python 3",
   "language": "python",
   "name": "python3"
  },
  "language_info": {
   "codemirror_mode": {
    "name": "ipython",
    "version": 3
   },
   "file_extension": ".py",
   "mimetype": "text/x-python",
   "name": "python",
   "nbconvert_exporter": "python",
   "pygments_lexer": "ipython3",
   "version": "3.6.1"
  }
 },
 "nbformat": 4,
 "nbformat_minor": 2
}
