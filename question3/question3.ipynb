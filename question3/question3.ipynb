{
 "cells": [
  {
   "cell_type": "markdown",
   "metadata": {},
   "source": [
    "# Question 3\n",
    "#### Write a function that takes (ra,dec,distance,proper motion ra,proper motion dec,line-of-sight velocity) and their Gaussian uncertainties for a star and computes eccentricity, zmax, rperi, rap and their uncertainties using Monte Carlo sampling with the galpy function galpy.actionAngle.actionAngleStaeckel.EccZmaxRperiRap. Apply to some stars in the Gaia RV sample."
   ]
  },
  {
   "cell_type": "code",
   "execution_count": 1,
   "metadata": {},
   "outputs": [
    {
     "name": "stdout",
     "output_type": "stream",
     "text": [
      "Created TAP+ (v1.0.1) - Connection:\n",
      "\tHost: gea.esac.esa.int\n",
      "\tUse HTTPS: False\n",
      "\tPort: 80\n",
      "\tSSL Port: 443\n"
     ]
    }
   ],
   "source": [
    "import numpy as np\n",
    "import astropy.units as u\n",
    "from astropy.coordinates import SkyCoord\n",
    "from astroquery.gaia import Gaia\n",
    "from galpy.potential import MWPotential2014\n",
    "from galpy.actionAngle import actionAngleStaeckel"
   ]
  },
  {
   "cell_type": "markdown",
   "metadata": {},
   "source": [
    "The following function takes the ICRS coordinates of a star, converts to galactocentric coordiantes, and calculates eccentricity, zmax, rperi, rap and their uncertainties. For the Monte Carlo sampling, I assumed that the ICRS coordinates are not correlated to each other (and hence the Gaussian distribution used for sampling is in the shape of a 5-sphere)."
   ]
  },
  {
   "cell_type": "code",
   "execution_count": 2,
   "metadata": {
    "collapsed": true
   },
   "outputs": [],
   "source": [
    "def icrs_to_EccZmaxRperiRap(ra: tuple, dec: tuple, d: tuple, pmra: tuple, \n",
    "                            pmdec: tuple, rv: tuple, ro: float = None, \n",
    "                            vo: float = None, nsamples: int = 100000) -> tuple:\n",
    "    \"\"\" Converts ICRS coordinates and their Gaussian uncertainties for a star\n",
    "    in the Milky War into eccentricity, maximum height above the plane, \n",
    "    pericentre, and apocentre with uncertainties.\n",
    "    \n",
    "    Parameters:\n",
    "        \n",
    "        ra - RA with uncertainty, given as a tuple of the form (RA, RA_ERR).\n",
    "        Can be Quantity, otherwise given in degrees.\n",
    "         \n",
    "        dec - Dec with uncertainty, given as a tuple of the form \n",
    "        (DEC, DEC_ERR). Can be Quantity, otherwise given in degrees.\n",
    "        \n",
    "        d - Distance with uncertainty, given as a tuple of the form (D, D_ERR).\n",
    "        Can be Quantity, otherwise given in kpc.\n",
    "        \n",
    "        pmra - Proper motion in RA with uncertainty, given as a tuple of the \n",
    "        form (PMRA, PMRA_ERR). Can be Quantity, otherwise given in mas/yr.\n",
    "    \n",
    "        pmdec - Proper motion in Dec with uncertainty, given as a tuple of the \n",
    "        form (PMDEC, PMDEC_ERR). Can be Quantity, otherwise given in mas/yr.\n",
    "    \n",
    "        rv - Radial velocity with uncertainty, given as a tuple of the form\n",
    "        (RV, RV_ERR). Can be Quantity, otherwise given in km/s.\n",
    "        \n",
    "        ro (optional) - Distance scale. Can be Quantity, otherwise given in\n",
    "        kpc. If provided with vo, activates output in physical units.\n",
    "        \n",
    "        vo (optional) - Velocity scale. Can be Quantity, otherwise given in \n",
    "        km/s. If provided with ro, activates output in physical units.\n",
    "        \n",
    "        nsamples (optional) - Number of samples for the Monte Carlo method.\n",
    "    \n",
    "    Returns:\n",
    "        \n",
    "        (e, zmax, rperi, rap), each a tuple of the form (VALUE, VALUE_ERR).\n",
    "        If ro and vo are provided, distances are returned in kpc. Otherwise\n",
    "        returns galpy natural units.\n",
    "    \"\"\"\n",
    "    # Convert each value and its error into astropy Quantities\n",
    "    ra_val, ra_err = u.Quantity(ra, u.deg)\n",
    "    dec_val, dec_err = u.Quantity(dec, u.deg)\n",
    "    d_val, d_err = u.Quantity(d, u.kpc)\n",
    "    pmra_val, pmra_err = u.Quantity(pmra, u.mas/u.yr)\n",
    "    pmdec_val, pmdec_err = u.Quantity(pmdec, u.mas/u.yr)\n",
    "    rv_val, rv_err = u.Quantity(rv, u.km/u.s)\n",
    "    \n",
    "    # Get parameters for a 6D normal distribution to sample\n",
    "    mean = np.array([ra_val.value, dec_val.value, d_val.value, pmra_val.value, \n",
    "                     pmdec_val.value, rv_val.value])\n",
    "    cov = np.diag([ra_err.value, dec_err.value, d_err.value, pmra_err.value, \n",
    "                    pmdec_err.value, rv_err.value])\n",
    "    \n",
    "    # Sample the normal distribution\n",
    "    samples = np.random.multivariate_normal(mean, cov, size=nsamples)\n",
    "    ra_samples = samples[:, 0] * u.deg\n",
    "    dec_samples = samples[:, 1] * u.deg\n",
    "    d_samples = samples[:, 2] * u.kpc\n",
    "    pmra_samples = samples[:, 3] * (u.mas/u.yr)\n",
    "    pmdec_samples = samples[:, 4] * (u.mas/u.yr)\n",
    "    rv_samples = samples[:, 5] * (u.km/u.s)\n",
    "    \n",
    "    coords = SkyCoord(frame=\"icrs\", ra=ra_samples, dec=dec_samples,\n",
    "                      distance=d_samples, pm_ra_cosdec=pmra_samples, \n",
    "                      pm_dec=pmdec_samples, radial_velocity=rv_samples)\n",
    "    \n",
    "    # Convert to galactocentric frame\n",
    "    gal_coords = coords.transform_to(\"galactocentric\")\n",
    "    gal_coords.representation_type = \"cylindrical\"\n",
    "    \n",
    "    # Convert each value into consistent units\n",
    "    R = gal_coords.rho.to(u.kpc)\n",
    "    phi = gal_coords.phi.to(u.deg)\n",
    "    z = gal_coords.z.to(u.kpc)\n",
    "    vR = gal_coords.d_rho.to(u.km/u.s)\n",
    "    vT = (gal_coords.d_phi * R).to(u.km/u.s, \n",
    "         equivalencies=u.dimensionless_angles())\n",
    "    vz = gal_coords.d_z.to(u.km/u.s)\n",
    "    \n",
    "    # Calculate EccZmaxRperiRap\n",
    "    aAS = actionAngleStaeckel(pot=MWPotential2014, delta=0.4, ro=ro, vo=vo)\n",
    "    orbit_vals = aAS.EccZmaxRperiRap(R, vR, vT, z, vz, phi)\n",
    "    \n",
    "    # Get the mean and standard deviation of the samples\n",
    "    ecc_val, zmax_val, rperi_val, rap_val = np.mean(orbit_vals, axis=1)\n",
    "    ecc_err, zmax_err, rperi_err, rap_err = np.std(orbit_vals, axis=1)\n",
    "    \n",
    "    return ((ecc_val, ecc_err),\n",
    "            (zmax_val, zmax_err),\n",
    "            (rperi_val, rperi_err),\n",
    "            (rap_val, rap_err))"
   ]
  },
  {
   "cell_type": "markdown",
   "metadata": {},
   "source": [
    "We can grab a few stars from Gaia to test the function. I am approximating the uncertainty in distance using $\\Delta d \\approx \\frac{\\Delta p}{p^2}$. Since I am using this approximation, I am only querying for stars with small parallax uncertainties. Alternatively, the above function could be rewritten to accept parallax instead of distance for the Monte Carlo sampling."
   ]
  },
  {
   "cell_type": "code",
   "execution_count": 3,
   "metadata": {},
   "outputs": [
    {
     "name": "stdout",
     "output_type": "stream",
     "text": [
      "Query finished.\n",
      "\n",
      "source_id: 6216803532750768128\n",
      "e = 0.2824356422122744 +/- 0.007569353518518249\n",
      "zmax = 1.3648740681860565 +/- 0.1223256756717155 kpc\n",
      "rperi = 5.770446578962753 +/- 0.4352745937277204 kpc\n",
      "rap = 10.312320813474797 +/- 0.7777192902580037 kpc\n",
      "\n",
      "source_id: 430087721411804416\n",
      "e = 0.32415428871354 +/- 0.011654231954122537\n",
      "zmax = 0.25836506091909284 +/- 0.08049405146849194 kpc\n",
      "rperi = 5.137866925816945 +/- 0.22590907478149158 kpc\n",
      "rap = 10.060417940930904 +/- 0.2299609268971258 kpc\n",
      "\n",
      "source_id: 1730739878892706176\n",
      "e = 0.43631732601752077 +/- 0.044634631001340005\n",
      "zmax = 1.1224280807437068 +/- 0.16396179319658177 kpc\n",
      "rperi = 4.00712131260837 +/- 0.22907673170480627 kpc\n",
      "rap = 10.236996995539597 +/- 0.5691309236507143 kpc\n",
      "\n",
      "source_id: 4099060334262501760\n",
      "e = 0.298986504295441 +/- 0.004806961236947552\n",
      "zmax = 0.38278773233144986 +/- 0.014487553266968715 kpc\n",
      "rperi = 5.722171505357887 +/- 0.04683624212457421 kpc\n",
      "rap = 10.603185184316567 +/- 0.04844740775587819 kpc\n",
      "\n",
      "source_id: 6019086981024770944\n",
      "e = 0.4467422130334209 +/- 0.05466385158745409\n",
      "zmax = 0.40146409015693024 +/- 0.06856234095907797 kpc\n",
      "rperi = 3.091395120748491 +/- 0.6201326622142078 kpc\n",
      "rap = 7.973870044515416 +/- 0.518003910026163 kpc\n"
     ]
    }
   ],
   "source": [
    "import warnings\n",
    "warnings.filterwarnings(\"ignore\")\n",
    "\n",
    "job = Gaia.launch_job_async(\"\"\"\n",
    "SELECT TOP 5\n",
    "source_id, ra, ra_error, dec, dec_error, parallax, parallax_error, pmra, \n",
    "pmra_error, pmdec, pmdec_error, radial_velocity, radial_velocity_error\n",
    "FROM gaiadr2.gaia_source \n",
    "WHERE radial_velocity IS NOT NULL\n",
    "AND ABS(radial_velocity) < 100.0\n",
    "AND parallax_error < parallax * 0.1\n",
    "\"\"\")\n",
    "stars = job.get_results()\n",
    "\n",
    "for i in range(len(stars)):\n",
    "    source_id = stars[i][\"source_id\"]\n",
    "    ra = (stars[i][\"ra\"], stars[i][\"ra_error\"])\n",
    "    dec = (stars[i][\"dec\"], stars[i][\"dec_error\"])\n",
    "    pmra = (stars[i][\"pmra\"], stars[i][\"pmra_error\"])\n",
    "    pmdec = (stars[i][\"pmdec\"], stars[i][\"pmdec_error\"])\n",
    "    rv = (stars[i][\"radial_velocity\"], stars[i][\"radial_velocity_error\"])\n",
    "    \n",
    "    # Calculate distance and its approximate uncertainty from parallax\n",
    "    d_val = 1/stars[i][\"parallax\"]\n",
    "    d_err = abs(stars[i][\"parallax_error\"]/(stars[i][\"parallax\"]**2))\n",
    "    d = (d_val, d_err)\n",
    "    \n",
    "    ecc, zmax, rperi, rap = icrs_to_EccZmaxRperiRap(ra, dec, d, pmra, pmdec, \n",
    "                                                    rv, ro=8., vo=220.)\n",
    "    print(\"\\nsource_id: {}\".format(source_id))\n",
    "    print(\"e = \" + \"{} +/- {}\".format(*ecc))\n",
    "    print(\"zmax = \" + \"{} +/- {} kpc\".format(*zmax))\n",
    "    print(\"rperi = \" + \"{} +/- {} kpc\".format(*rperi))\n",
    "    print(\"rap = \" + \"{} +/- {} kpc\".format(*rap))"
   ]
  }
 ],
 "metadata": {
  "kernelspec": {
   "display_name": "Python 3",
   "language": "python",
   "name": "python3"
  },
  "language_info": {
   "codemirror_mode": {
    "name": "ipython",
    "version": 3
   },
   "file_extension": ".py",
   "mimetype": "text/x-python",
   "name": "python",
   "nbconvert_exporter": "python",
   "pygments_lexer": "ipython3",
   "version": "3.6.1"
  }
 },
 "nbformat": 4,
 "nbformat_minor": 2
}
